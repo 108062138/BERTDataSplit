{
 "cells": [
  {
   "cell_type": "code",
   "execution_count": 2,
   "id": "1f311dbc",
   "metadata": {},
   "outputs": [],
   "source": [
    "#(train_images, train_labels), (test_images, test_labels) = keras.datasets.mnist.load_data()\n",
    "import numpy as np\n",
    "import pandas as pd\n",
    "import os\n",
    "if not os.path.exists(\"./MLFinalData/\") : os.mkdir(\"./MLFinalData/\")\n",
    "if not os.path.exists(\"./MLFinalData/train\") : os.mkdir(\"./MLFinalData/train\")\n",
    "if not os.path.exists(\"./MLFinalData/train/pos\") : os.mkdir(\"./MLFinalData/train/pos\")\n",
    "if not os.path.exists(\"./MLFinalData/train/neg\") : os.mkdir(\"./MLFinalData/train/neg\")\n",
    "if not os.path.exists(\"./MLFinalData/val\") : os.mkdir(\"./MLFinalData/val\")\n",
    "if not os.path.exists(\"./MLFinalData/test\") : os.mkdir(\"./MLFinalData/test\")"
   ]
  },
  {
   "cell_type": "code",
   "execution_count": 3,
   "id": "fa8ca1f1",
   "metadata": {},
   "outputs": [
    {
     "data": {
      "text/html": [
       "<div>\n",
       "<style scoped>\n",
       "    .dataframe tbody tr th:only-of-type {\n",
       "        vertical-align: middle;\n",
       "    }\n",
       "\n",
       "    .dataframe tbody tr th {\n",
       "        vertical-align: top;\n",
       "    }\n",
       "\n",
       "    .dataframe thead th {\n",
       "        text-align: right;\n",
       "    }\n",
       "</style>\n",
       "<table border=\"1\" class=\"dataframe\">\n",
       "  <thead>\n",
       "    <tr style=\"text-align: right;\">\n",
       "      <th></th>\n",
       "      <th>review</th>\n",
       "      <th>sentiment</th>\n",
       "    </tr>\n",
       "  </thead>\n",
       "  <tbody>\n",
       "    <tr>\n",
       "      <th>0</th>\n",
       "      <td>I had been very curious to see the original si...</td>\n",
       "      <td>1</td>\n",
       "    </tr>\n",
       "    <tr>\n",
       "      <th>1</th>\n",
       "      <td>This movie was hysterical. I haven't laughed t...</td>\n",
       "      <td>1</td>\n",
       "    </tr>\n",
       "    <tr>\n",
       "      <th>2</th>\n",
       "      <td>Mr. Accident is a deliberate series of non-sto...</td>\n",
       "      <td>0</td>\n",
       "    </tr>\n",
       "    <tr>\n",
       "      <th>3</th>\n",
       "      <td>I am very disappointed with \"K-911.\" The origi...</td>\n",
       "      <td>0</td>\n",
       "    </tr>\n",
       "    <tr>\n",
       "      <th>4</th>\n",
       "      <td>There was a reasonably good looking girl starr...</td>\n",
       "      <td>0</td>\n",
       "    </tr>\n",
       "  </tbody>\n",
       "</table>\n",
       "</div>"
      ],
      "text/plain": [
       "                                              review  sentiment\n",
       "0  I had been very curious to see the original si...          1\n",
       "1  This movie was hysterical. I haven't laughed t...          1\n",
       "2  Mr. Accident is a deliberate series of non-sto...          0\n",
       "3  I am very disappointed with \"K-911.\" The origi...          0\n",
       "4  There was a reasonably good looking girl starr...          0"
      ]
     },
     "execution_count": 3,
     "metadata": {},
     "output_type": "execute_result"
    }
   ],
   "source": [
    "fileName = 'train'\n",
    "X_train = pd.read_csv('./'+fileName+'.csv', index_col=0)\n",
    "X_train.head()"
   ]
  },
  {
   "cell_type": "code",
   "execution_count": 5,
   "id": "77ea80dc",
   "metadata": {},
   "outputs": [
    {
     "ename": "FileNotFoundError",
     "evalue": "[Errno 2] No such file or directory: './output/train/pos/0.txt'",
     "output_type": "error",
     "traceback": [
      "\u001b[1;31m---------------------------------------------------------------------------\u001b[0m",
      "\u001b[1;31mFileNotFoundError\u001b[0m                         Traceback (most recent call last)",
      "\u001b[1;32m~\\AppData\\Local\\Temp/ipykernel_20884/4275753989.py\u001b[0m in \u001b[0;36m<module>\u001b[1;34m\u001b[0m\n\u001b[0;32m      5\u001b[0m     \u001b[1;31m# print(index,row['review'],row['sentiment'])\u001b[0m\u001b[1;33m\u001b[0m\u001b[1;33m\u001b[0m\u001b[1;33m\u001b[0m\u001b[0m\n\u001b[0;32m      6\u001b[0m     \u001b[0mpath\u001b[0m \u001b[1;33m=\u001b[0m \u001b[1;34m'./output/train/pos/'\u001b[0m \u001b[1;33m+\u001b[0m \u001b[0mstr\u001b[0m\u001b[1;33m(\u001b[0m\u001b[0mindex\u001b[0m\u001b[1;33m)\u001b[0m \u001b[1;33m+\u001b[0m \u001b[1;34m'.txt'\u001b[0m\u001b[1;33m\u001b[0m\u001b[1;33m\u001b[0m\u001b[0m\n\u001b[1;32m----> 7\u001b[1;33m     \u001b[1;32mwith\u001b[0m \u001b[0mopen\u001b[0m\u001b[1;33m(\u001b[0m\u001b[0mpath\u001b[0m\u001b[1;33m,\u001b[0m \u001b[1;34m'a'\u001b[0m\u001b[1;33m,\u001b[0m \u001b[0mencoding\u001b[0m\u001b[1;33m=\u001b[0m\u001b[1;34m'UTF-8'\u001b[0m\u001b[1;33m)\u001b[0m \u001b[1;32mas\u001b[0m \u001b[0mf\u001b[0m\u001b[1;33m:\u001b[0m\u001b[1;33m\u001b[0m\u001b[1;33m\u001b[0m\u001b[0m\n\u001b[0m\u001b[0;32m      8\u001b[0m         \u001b[0mf\u001b[0m\u001b[1;33m.\u001b[0m\u001b[0mwrite\u001b[0m\u001b[1;33m(\u001b[0m\u001b[0mrow\u001b[0m\u001b[1;33m[\u001b[0m\u001b[1;34m'review'\u001b[0m\u001b[1;33m]\u001b[0m\u001b[1;33m)\u001b[0m\u001b[1;33m\u001b[0m\u001b[1;33m\u001b[0m\u001b[0m\n\u001b[0;32m      9\u001b[0m     \u001b[0mcnt\u001b[0m \u001b[1;33m=\u001b[0m \u001b[0mcnt\u001b[0m\u001b[1;33m+\u001b[0m\u001b[1;36m1\u001b[0m\u001b[1;33m\u001b[0m\u001b[1;33m\u001b[0m\u001b[0m\n",
      "\u001b[1;31mFileNotFoundError\u001b[0m: [Errno 2] No such file or directory: './output/train/pos/0.txt'"
     ]
    }
   ],
   "source": [
    "neg = X_train[(X_train['sentiment']==0)].iloc[:]\n",
    "pos = X_train[(X_train['sentiment']==1)].iloc[:]\n",
    "cnt = 0\n",
    "for index, row in pos.iterrows():\n",
    "    # print(index,row['review'],row['sentiment'])\n",
    "    path = './output/train/pos/' + str(index) + '.txt'\n",
    "    with open(path, 'a', encoding='UTF-8') as f:\n",
    "        f.write(row['review'])\n",
    "    cnt = cnt+1"
   ]
  },
  {
   "cell_type": "code",
   "execution_count": null,
   "id": "695692b1",
   "metadata": {},
   "outputs": [],
   "source": [
    "for index, row in neg.iterrows():\n",
    "    # print(index,row['review'],row['sentiment'])\n",
    "    try:\n",
    "        path = './output/train/neg/' + str(index) + '.txt'\n",
    "        with open(path, 'a',encoding='UTF-8') as f:\n",
    "            f.write(row['review'])\n",
    "    except:\n",
    "        pass"
   ]
  },
  {
   "cell_type": "code",
   "execution_count": null,
   "id": "7ff58783",
   "metadata": {},
   "outputs": [],
   "source": [
    "fileName = 'test'\n",
    "X_test = pd.read_csv('./'+fileName+'.csv', index_col=0)\n",
    "X_test.head()"
   ]
  },
  {
   "cell_type": "code",
   "execution_count": null,
   "id": "204ece73",
   "metadata": {},
   "outputs": [],
   "source": [
    "for index, row in X_test.iterrows():\n",
    "    # print(index,row['review'],row['sentiment'])\n",
    "    try:\n",
    "        path = './output/test/' + str(index) + '.txt'\n",
    "        with open(path, 'a',encoding='UTF-8') as f:\n",
    "            f.write(row['review'])\n",
    "    except:\n",
    "        pass"
   ]
  },
  {
   "cell_type": "code",
   "execution_count": null,
   "id": "1bdb5f08",
   "metadata": {},
   "outputs": [],
   "source": []
  }
 ],
 "metadata": {
  "kernelspec": {
   "display_name": "Python 3",
   "language": "python",
   "name": "python3"
  },
  "language_info": {
   "codemirror_mode": {
    "name": "ipython",
    "version": 3
   },
   "file_extension": ".py",
   "mimetype": "text/x-python",
   "name": "python",
   "nbconvert_exporter": "python",
   "pygments_lexer": "ipython3",
   "version": "3.8.8"
  }
 },
 "nbformat": 4,
 "nbformat_minor": 5
}

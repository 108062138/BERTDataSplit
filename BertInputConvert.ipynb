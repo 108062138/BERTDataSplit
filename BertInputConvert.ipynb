{
 "cells": [
  {
   "cell_type": "code",
   "execution_count": 43,
   "id": "1f311dbc",
   "metadata": {},
   "outputs": [],
   "source": [
    "#(train_images, train_labels), (test_images, test_labels) = keras.datasets.mnist.load_data()\n",
    "import numpy as np\n",
    "import pandas as pd\n",
    "import os\n",
    "if not os.path.exists(\"./MLFinalData/\") : os.mkdir(\"./MLFinalData/\")"
   ]
  },
  {
   "cell_type": "code",
   "execution_count": 44,
   "id": "d7c3fcae",
   "metadata": {},
   "outputs": [],
   "source": [
    "if not os.path.exists(\"./MLFinalData/train\") : os.mkdir(\"./MLFinalData/train\")\n",
    "if not os.path.exists(\"./MLFinalData/train/pos\") : os.mkdir(\"./MLFinalData/train/pos\")\n",
    "if not os.path.exists(\"./MLFinalData/train/neg\") : os.mkdir(\"./MLFinalData/train/neg\")\n",
    "if not os.path.exists(\"./MLFinalData/val\") : os.mkdir(\"./MLFinalData/val\")\n",
    "if not os.path.exists(\"./MLFinalData/test\") : os.mkdir(\"./MLFinalData/test\")"
   ]
  },
  {
   "cell_type": "code",
   "execution_count": 31,
   "id": "fa8ca1f1",
   "metadata": {},
   "outputs": [
    {
     "data": {
      "text/html": [
       "<div>\n",
       "<style scoped>\n",
       "    .dataframe tbody tr th:only-of-type {\n",
       "        vertical-align: middle;\n",
       "    }\n",
       "\n",
       "    .dataframe tbody tr th {\n",
       "        vertical-align: top;\n",
       "    }\n",
       "\n",
       "    .dataframe thead th {\n",
       "        text-align: right;\n",
       "    }\n",
       "</style>\n",
       "<table border=\"1\" class=\"dataframe\">\n",
       "  <thead>\n",
       "    <tr style=\"text-align: right;\">\n",
       "      <th></th>\n",
       "      <th>review</th>\n",
       "      <th>sentiment</th>\n",
       "    </tr>\n",
       "    <tr>\n",
       "      <th>ID</th>\n",
       "      <th></th>\n",
       "      <th></th>\n",
       "    </tr>\n",
       "  </thead>\n",
       "  <tbody>\n",
       "    <tr>\n",
       "      <th>41411</th>\n",
       "      <td>I watched this film because I'm a big fan of R...</td>\n",
       "      <td>0</td>\n",
       "    </tr>\n",
       "    <tr>\n",
       "      <th>37586</th>\n",
       "      <td>It does not seem that this movie managed to pl...</td>\n",
       "      <td>1</td>\n",
       "    </tr>\n",
       "    <tr>\n",
       "      <th>6017</th>\n",
       "      <td>Enough is not a bad movie , just mediocre .</td>\n",
       "      <td>0</td>\n",
       "    </tr>\n",
       "    <tr>\n",
       "      <th>44656</th>\n",
       "      <td>my friend and i rented this one a few nights a...</td>\n",
       "      <td>0</td>\n",
       "    </tr>\n",
       "    <tr>\n",
       "      <th>38711</th>\n",
       "      <td>Just about everything in this movie is wrong, ...</td>\n",
       "      <td>0</td>\n",
       "    </tr>\n",
       "  </tbody>\n",
       "</table>\n",
       "</div>"
      ],
      "text/plain": [
       "                                                  review  sentiment\n",
       "ID                                                                 \n",
       "41411  I watched this film because I'm a big fan of R...          0\n",
       "37586  It does not seem that this movie managed to pl...          1\n",
       "6017         Enough is not a bad movie , just mediocre .          0\n",
       "44656  my friend and i rented this one a few nights a...          0\n",
       "38711  Just about everything in this movie is wrong, ...          0"
      ]
     },
     "execution_count": 31,
     "metadata": {},
     "output_type": "execute_result"
    }
   ],
   "source": [
    "fileName = 'train'\n",
    "X_train = pd.read_csv('./'+fileName+'.csv', index_col=0)\n",
    "X_train.head()"
   ]
  },
  {
   "cell_type": "code",
   "execution_count": 35,
   "id": "77ea80dc",
   "metadata": {},
   "outputs": [],
   "source": [
    "neg = X_train[(X_train['sentiment']==0)].iloc[:]\n",
    "pos = X_train[(X_train['sentiment']==1)].iloc[:]\n",
    "cnt = 0\n",
    "for index, row in pos.iterrows():\n",
    "    # print(index,row['review'],row['sentiment'])\n",
    "    path = './output/train/pos/' + str(index) + '.txt'\n",
    "    with open(path, 'a', encoding='UTF-8') as f:\n",
    "        f.write(row['review'])\n",
    "    cnt = cnt+1"
   ]
  },
  {
   "cell_type": "code",
   "execution_count": 37,
   "id": "695692b1",
   "metadata": {},
   "outputs": [],
   "source": [
    "for index, row in neg.iterrows():\n",
    "    # print(index,row['review'],row['sentiment'])\n",
    "    try:\n",
    "        path = './output/train/neg/' + str(index) + '.txt'\n",
    "        with open(path, 'a',encoding='UTF-8') as f:\n",
    "            f.write(row['review'])\n",
    "    except:\n",
    "        pass"
   ]
  },
  {
   "cell_type": "code",
   "execution_count": 40,
   "id": "7ff58783",
   "metadata": {},
   "outputs": [
    {
     "data": {
      "text/html": [
       "<div>\n",
       "<style scoped>\n",
       "    .dataframe tbody tr th:only-of-type {\n",
       "        vertical-align: middle;\n",
       "    }\n",
       "\n",
       "    .dataframe tbody tr th {\n",
       "        vertical-align: top;\n",
       "    }\n",
       "\n",
       "    .dataframe thead th {\n",
       "        text-align: right;\n",
       "    }\n",
       "</style>\n",
       "<table border=\"1\" class=\"dataframe\">\n",
       "  <thead>\n",
       "    <tr style=\"text-align: right;\">\n",
       "      <th></th>\n",
       "      <th>review</th>\n",
       "    </tr>\n",
       "    <tr>\n",
       "      <th>ID</th>\n",
       "      <th></th>\n",
       "    </tr>\n",
       "  </thead>\n",
       "  <tbody>\n",
       "    <tr>\n",
       "      <th>22622</th>\n",
       "      <td>Robert Lansing plays a scientist experimenting...</td>\n",
       "    </tr>\n",
       "    <tr>\n",
       "      <th>10162</th>\n",
       "      <td>Well I've enjoy this movie, even though someti...</td>\n",
       "    </tr>\n",
       "    <tr>\n",
       "      <th>17468</th>\n",
       "      <td>First things first - though I believe Joel Sch...</td>\n",
       "    </tr>\n",
       "    <tr>\n",
       "      <th>42579</th>\n",
       "      <td>I watched this movie on the grounds that Amber...</td>\n",
       "    </tr>\n",
       "    <tr>\n",
       "      <th>701</th>\n",
       "      <td>A certain sexiness underlines even the dullest...</td>\n",
       "    </tr>\n",
       "  </tbody>\n",
       "</table>\n",
       "</div>"
      ],
      "text/plain": [
       "                                                  review\n",
       "ID                                                      \n",
       "22622  Robert Lansing plays a scientist experimenting...\n",
       "10162  Well I've enjoy this movie, even though someti...\n",
       "17468  First things first - though I believe Joel Sch...\n",
       "42579  I watched this movie on the grounds that Amber...\n",
       "701    A certain sexiness underlines even the dullest..."
      ]
     },
     "execution_count": 40,
     "metadata": {},
     "output_type": "execute_result"
    }
   ],
   "source": [
    "fileName = 'test'\n",
    "X_test = pd.read_csv('./'+fileName+'.csv', index_col=0)\n",
    "X_test.head()"
   ]
  },
  {
   "cell_type": "code",
   "execution_count": 41,
   "id": "204ece73",
   "metadata": {},
   "outputs": [],
   "source": [
    "for index, row in X_test.iterrows():\n",
    "    # print(index,row['review'],row['sentiment'])\n",
    "    try:\n",
    "        path = './output/test/' + str(index) + '.txt'\n",
    "        with open(path, 'a',encoding='UTF-8') as f:\n",
    "            f.write(row['review'])\n",
    "    except:\n",
    "        pass"
   ]
  },
  {
   "cell_type": "code",
   "execution_count": null,
   "id": "1bdb5f08",
   "metadata": {},
   "outputs": [],
   "source": []
  }
 ],
 "metadata": {
  "kernelspec": {
   "display_name": "Python 3",
   "language": "python",
   "name": "python3"
  },
  "language_info": {
   "codemirror_mode": {
    "name": "ipython",
    "version": 3
   },
   "file_extension": ".py",
   "mimetype": "text/x-python",
   "name": "python",
   "nbconvert_exporter": "python",
   "pygments_lexer": "ipython3",
   "version": "3.8.8"
  }
 },
 "nbformat": 4,
 "nbformat_minor": 5
}

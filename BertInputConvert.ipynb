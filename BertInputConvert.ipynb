{
 "cells": [
  {
   "cell_type": "code",
   "execution_count": 56,
   "id": "1f311dbc",
   "metadata": {},
   "outputs": [],
   "source": [
    "#(train_images, train_labels), (test_images, test_labels) = keras.datasets.mnist.load_data()\n",
    "import numpy as np\n",
    "import pandas as pd\n",
    "import os\n",
    "from io import StringIO\n",
    "from html.parser import HTMLParser\n",
    "if not os.path.exists(\"./MLFinalData/\") : os.mkdir(\"./MLFinalData/\")\n",
    "if not os.path.exists(\"./MLFinalData/train\") : os.mkdir(\"./MLFinalData/train\")\n",
    "if not os.path.exists(\"./MLFinalData/train/pos\") : os.mkdir(\"./MLFinalData/train/pos\")\n",
    "if not os.path.exists(\"./MLFinalData/train/neg\") : os.mkdir(\"./MLFinalData/train/neg\")\n",
    "if not os.path.exists(\"./MLFinalData/val\") : os.mkdir(\"./MLFinalData/val\")\n",
    "if not os.path.exists(\"./MLFinalData/val/pos\") : os.mkdir(\"./MLFinalData/val/pos\")\n",
    "if not os.path.exists(\"./MLFinalData/val/neg\") : os.mkdir(\"./MLFinalData/val/neg\")\n",
    "if not os.path.exists(\"./MLFinalData/test\") : os.mkdir(\"./MLFinalData/test\")"
   ]
  },
  {
   "cell_type": "code",
   "execution_count": 57,
   "id": "e3bde964",
   "metadata": {},
   "outputs": [],
   "source": [
    "class MLStripper(HTMLParser):\n",
    "    def __init__(self):\n",
    "        super().__init__()\n",
    "        self.reset()\n",
    "        self.strict = False\n",
    "        self.convert_charrefs= True\n",
    "        self.text = StringIO()\n",
    "    def handle_data(self, d):\n",
    "        self.text.write(d)\n",
    "    def get_data(self):\n",
    "        return self.text.getvalue()\n",
    "def strip_tags(html):\n",
    "    s = MLStripper()\n",
    "    s.feed(html)\n",
    "    return s.get_data()\n",
    "# tmp = \"Michelle Rodriguez is the defining actress who could be the charging force for other actresses to look out for. She has the audacity to place herself in a rarely seen tough-girl role very early in her career (and pull it off), which is a feat that should be recognized. Although her later films pigeonhole her to that same role, this film was made for her ruggedness.<br /><br />Her character is a romanticized student/fighter/lover, struggling to overcome her disenchanted existence in the projects, which is a little overdone in film...but not by a girl. That aspect of this film isn't very original, but the story goes in depth when the heated relationships that this girl has to deal with come to a boil and her primal rage takes over.<br /><br />I haven't seen an actress take such an aggressive stance in movie-making yet, and I'm glad that she's getting that original twist out there in Hollywood. This film got a 7 from me because of the average story of ghetto youth, but it has such a great actress portraying a rarely-seen role in a minimal budget movie. Great work.\"\n",
    "# res = strip_tags(tmp)\n",
    "# print(res)\n",
    "cntFail = 0"
   ]
  },
  {
   "cell_type": "code",
   "execution_count": 58,
   "id": "77ea80dc",
   "metadata": {},
   "outputs": [
    {
     "name": "stdout",
     "output_type": "stream",
     "text": [
      "23862 23082\n"
     ]
    }
   ],
   "source": [
    "fileName = 'train'\n",
    "X_train = pd.read_csv('./'+fileName+'.csv', index_col=0)\n",
    "X_train.head()\n",
    "neg = X_train[(X_train['sentiment']==0)].iloc[:]\n",
    "pos = X_train[(X_train['sentiment']==1)].iloc[:]\n",
    "print(pos.size,neg.size)\n",
    "for index, row in pos.iterrows():\n",
    "    path = './MLFinalData/train/pos/' + str(index) + '.txt'\n",
    "    strippedStr = strip_tags(row['review'])\n",
    "    try:\n",
    "        with open(path, 'a', encoding='UTF-8') as f:\n",
    "            f.write(strippedStr)\n",
    "    except:\n",
    "        cntFail = cntFail + 1\n",
    "for index, row in neg.iterrows():\n",
    "    try:\n",
    "        path = './MLFinalData/train/neg/' + str(index) + '.txt'\n",
    "        strippedStr = strip_tags(row['review'])\n",
    "        with open(path, 'a',encoding='UTF-8') as f:\n",
    "            f.write(strippedStr)\n",
    "    except:\n",
    "        cntFail = cntFail + 1"
   ]
  },
  {
   "cell_type": "code",
   "execution_count": 59,
   "id": "73909a2b",
   "metadata": {},
   "outputs": [
    {
     "name": "stdout",
     "output_type": "stream",
     "text": [
      "6046 5692\n"
     ]
    }
   ],
   "source": [
    "fileName = 'val'\n",
    "X_val = pd.read_csv('./'+fileName+'.csv', index_col=0)\n",
    "X_val.head()\n",
    "neg = X_val[(X_val['sentiment']==0)].iloc[:]\n",
    "pos = X_val[(X_val['sentiment']==1)].iloc[:]  \n",
    "print(pos.size,neg.size)\n",
    "for index, row in pos.iterrows():\n",
    "    path = './MLFinalData/val/pos/' + str(index) + '.txt'\n",
    "    strippedStr = strip_tags(row['review'])\n",
    "    try:\n",
    "        with open(path, 'a', encoding='UTF-8') as f:\n",
    "            f.write(strippedStr)\n",
    "    except:\n",
    "        cntFail = cntFail + 1\n",
    "for index, row in neg.iterrows():\n",
    "    try:\n",
    "        path = './MLFinalData/val/neg/' + str(index) + '.txt'\n",
    "        strippedStr = strip_tags(row['review'])\n",
    "        with open(path, 'a',encoding='UTF-8') as f:\n",
    "            f.write(strippedStr)\n",
    "    except:\n",
    "        cntFail = cntFail + 1"
   ]
  },
  {
   "cell_type": "code",
   "execution_count": 60,
   "id": "204ece73",
   "metadata": {},
   "outputs": [],
   "source": [
    "X_test = pd.read_csv('test.csv', index_col=0)\n",
    "X_test.head()\n",
    "for index, row in X_test.iterrows():\n",
    "    try:\n",
    "        path = './MLFinalData/test/' + str(index) + '.txt'\n",
    "        strippedStr = strip_tags(row['review'])\n",
    "        with open(path, 'a',encoding='UTF-8') as f:\n",
    "            f.write(strippedStr)\n",
    "    except:\n",
    "       cntFail = cntFail + 1"
   ]
  },
  {
   "cell_type": "code",
   "execution_count": 61,
   "id": "1bdb5f08",
   "metadata": {},
   "outputs": [
    {
     "name": "stdout",
     "output_type": "stream",
     "text": [
      "0\n"
     ]
    }
   ],
   "source": [
    "print(cntFail)"
   ]
  },
  {
   "cell_type": "code",
   "execution_count": 2,
   "id": "e169ea75",
   "metadata": {},
   "outputs": [
    {
     "data": {
      "text/plain": [
       "'C:\\\\Users\\\\USER\\\\Desktop\\\\tmp\\\\bertFit\\\\MLFinalData.zip'"
      ]
     },
     "execution_count": 2,
     "metadata": {},
     "output_type": "execute_result"
    }
   ],
   "source": [
    "import shutil\n",
    "outputFile = 'MLFinalData'\n",
    "shutil.make_archive(outputFile, 'zip', outputFile)"
   ]
  },
  {
   "cell_type": "code",
   "execution_count": null,
   "id": "4742f521",
   "metadata": {},
   "outputs": [],
   "source": []
  }
 ],
 "metadata": {
  "kernelspec": {
   "display_name": "Python 3",
   "language": "python",
   "name": "python3"
  },
  "language_info": {
   "codemirror_mode": {
    "name": "ipython",
    "version": 3
   },
   "file_extension": ".py",
   "mimetype": "text/x-python",
   "name": "python",
   "nbconvert_exporter": "python",
   "pygments_lexer": "ipython3",
   "version": "3.8.8"
  }
 },
 "nbformat": 4,
 "nbformat_minor": 5
}
